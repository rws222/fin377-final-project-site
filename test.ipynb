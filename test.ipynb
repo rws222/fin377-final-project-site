{
 "cells": [
  {
   "cell_type": "markdown",
   "id": "ff732816-acca-45b0-a606-ab89a57c8160",
   "metadata": {},
   "source": [
    "# How much risk is right for you?\n",
    "\n",
    "### This is a question\n",
    "\n",
    "- This is an answer\n",
    "- This is an answer\n",
    "- This is an answer\n",
    "- This is an answer\n",
    "\n",
    "### This is a question\n",
    "\n",
    "- This is an answer\n",
    "- This is an answer\n",
    "- This is an answer\n",
    "- This is an answer\n",
    "\n",
    "\n",
    "# Tell us about your preferences\n",
    "\n",
    "### This is a question\n",
    "\n",
    "- This is an answer\n",
    "- This is an answer\n",
    "- This is an answer\n",
    "- This is an answer\n",
    "\n",
    "### This is a question\n",
    "\n",
    "- This is an answer\n",
    "- This is an answer\n",
    "- This is an answer\n",
    "- This is an answer\n",
    "\n",
    "\n",
    "# Your results\n",
    "\n",
    "### Top Investments\n",
    "\n",
    "### Top Industries\n",
    "\n",
    "### Portfolio Breakdown\n",
    "\n",
    "\n",
    "\n"
   ]
  }
 ],
 "metadata": {
  "kernelspec": {
   "display_name": "Python 3 (ipykernel)",
   "language": "python",
   "name": "python3"
  },
  "language_info": {
   "codemirror_mode": {
    "name": "ipython",
    "version": 3
   },
   "file_extension": ".py",
   "mimetype": "text/x-python",
   "name": "python",
   "nbconvert_exporter": "python",
   "pygments_lexer": "ipython3",
   "version": "3.9.7"
  }
 },
 "nbformat": 4,
 "nbformat_minor": 5
}
